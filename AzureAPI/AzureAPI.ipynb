{
 "cells": [
  {
   "cell_type": "code",
   "execution_count": 1,
   "metadata": {},
   "outputs": [],
   "source": [
    "#eastus.api.cognitive.microsoft.com\n",
    "\n",
    "#Request URL\n",
    "#https://[location].api.cognitive.microsoft.com/vision/v1.0/analyze[?visualFeatures][&details][&language]\n"
   ]
  },
  {
   "cell_type": "code",
   "execution_count": 6,
   "metadata": {},
   "outputs": [],
   "source": [
    "import http.client, urllib.request, urllib.parse, urllib.error, base64\n",
    "from config import api_key\n",
    "import pprint\n",
    "import requests\n"
   ]
  },
  {
   "cell_type": "code",
   "execution_count": 41,
   "metadata": {},
   "outputs": [],
   "source": [
    "headers = {\n",
    "    # Request headers\n",
    "    'Content-Type': 'application/json',\n",
    "    'Ocp-Apim-Subscription-Key': api_key, #don't upload key to Github\n",
    "}\n",
    "image_url= 'https://upload.wikimedia.org/wikipedia/commons/thumb/6/6e/Monasterio_Khor_Virap%2C_Armenia%2C_2016-10-01%2C_DD_25.jpg/1920px-Monasterio_Khor_Virap%2C_Armenia%2C_2016-10-01%2C_DD_25.jpg'\n",
    "params = urllib.parse.urlencode({\n",
    "    # Request parameters\n",
    "    'visualFeatures': 'Categories',\n",
    "    'visualFeatures': 'Tags',\n",
    "#     'visualFeatures': 'Description',\n",
    "#     'visualFeatures': 'Faces',\n",
    "#     'visualFeatures': 'ImageType',\n",
    "#     'visualFeatures': 'Color',\n",
    "#     'visualFeatures': 'Adult',\n",
    "#     'details': 'Celebrities',\n",
    "#     'details': 'Landmarks',\n",
    "    'language': 'en',\n",
    "    'data': image_url\n",
    "})\n",
    "vision_base_url=\"https://westus.api.cognitive.microsoft.com/vision/v1.0/analyze?%s\"\n",
    "analyze_url = vision_base_url + \"analyze\"\n",
    "# myURL= \"https://media.wired.com/photos/5aa18e3edc9df6500b90747b/master/w_825,c_limit/CarRoundup-Mclaren.jpg\"\n"
   ]
  },
  {
   "cell_type": "code",
   "execution_count": 34,
   "metadata": {},
   "outputs": [
    {
     "name": "stdout",
     "output_type": "stream",
     "text": [
      "b'{\"tags\":[{\"name\":\"mountain\",\"confidence\":0.99994778633117676},{\"name\":\"outdoor\",\"confidence\":0.998738706111908},{\"name\":\"sky\",\"confidence\":0.99860125780105591},{\"name\":\"nature\",\"confidence\":0.943989098072052},{\"name\":\"background\",\"confidence\":0.64037871360778809},{\"name\":\"hill\",\"confidence\":0.620606541633606},{\"name\":\"hillside\",\"confidence\":0.33821719884872437},{\"name\":\"highland\",\"confidence\":0.16858021914958954},{\"name\":\"distance\",\"confidence\":0.16694948077201843},{\"name\":\"volcano\",\"confidence\":0.16694948077201843},{\"name\":\"trek\",\"confidence\":0.084974125838442771},{\"name\":\"landscape\",\"confidence\":0.033312289505929814},{\"name\":\"snow\",\"confidence\":0.019607036275373933}],\"requestId\":\"b6d94025-f68c-4e76-80e9-4cf788d35a16\",\"metadata\":{\"width\":1920,\"height\":982,\"format\":\"Jpeg\"}}'\n"
     ]
    }
   ],
   "source": [
    "# \"url\":\"http://example.com/images/test.jpg\"\n",
    "try:\n",
    "    conn = http.client.HTTPSConnection('westus.api.cognitive.microsoft.com')\n",
    "    conn.request(\"POST\", \"/vision/v1.0/analyze?%s\" % params, \"{'url':'https://upload.wikimedia.org/wikipedia/commons/thumb/6/6e/Monasterio_Khor_Virap%2C_Armenia%2C_2016-10-01%2C_DD_25.jpg/1920px-Monasterio_Khor_Virap%2C_Armenia%2C_2016-10-01%2C_DD_25.jpg'}\", headers)\n",
    "    response = conn.getresponse()\n",
    "    data = response.read()\n",
    "    \n",
    "    print(data)\n",
    "    conn.close()\n",
    "except Exception as e:\n",
    "    print(\"[Errno {0}] {1}\".format(e.errno, e.strerror))\n",
    "\n",
    "####################################"
   ]
  },
  {
   "cell_type": "code",
   "execution_count": 35,
   "metadata": {},
   "outputs": [
    {
     "data": {
      "text/plain": [
       "http.client.HTTPResponse"
      ]
     },
     "execution_count": 35,
     "metadata": {},
     "output_type": "execute_result"
    }
   ],
   "source": []
  },
  {
   "cell_type": "code",
   "execution_count": null,
   "metadata": {},
   "outputs": [],
   "source": []
  }
 ],
 "metadata": {
  "kernelspec": {
   "display_name": "Python 3",
   "language": "python",
   "name": "python3"
  },
  "language_info": {
   "codemirror_mode": {
    "name": "ipython",
    "version": 3
   },
   "file_extension": ".py",
   "mimetype": "text/x-python",
   "name": "python",
   "nbconvert_exporter": "python",
   "pygments_lexer": "ipython3",
   "version": "3.6.6"
  }
 },
 "nbformat": 4,
 "nbformat_minor": 2
}
