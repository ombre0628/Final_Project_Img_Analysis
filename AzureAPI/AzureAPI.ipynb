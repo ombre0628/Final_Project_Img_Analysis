{
 "cells": [
  {
   "cell_type": "code",
<<<<<<< HEAD
   "execution_count": 1,
=======
   "execution_count": null,
>>>>>>> ec4276e42d626832a2821fe3373d6d1f98c8d86d
   "metadata": {},
   "outputs": [],
   "source": [
    "#eastus.api.cognitive.microsoft.com\n",
    "\n",
    "#Request URL\n",
    "#https://[location].api.cognitive.microsoft.com/vision/v1.0/analyze[?visualFeatures][&details][&language]\n"
   ]
  },
  {
   "cell_type": "code",
   "execution_count": 2,
   "metadata": {},
   "outputs": [],
   "source": [
<<<<<<< HEAD
    "import http.client, urllib.request, urllib.parse, urllib.error, base64\n",
    "from config import api_key"
=======
    "import http.client, urllib.request, urllib.parse, urllib.error, base64"
>>>>>>> ec4276e42d626832a2821fe3373d6d1f98c8d86d
   ]
  },
  {
   "cell_type": "code",
   "execution_count": 4,
   "metadata": {},
   "outputs": [
    {
     "name": "stdout",
     "output_type": "stream",
     "text": [
<<<<<<< HEAD
      "b'{\"categories\":[{\"name\":\"outdoor_mountain\",\"score\":0.99609375}],\"requestId\":\"1258a444-0ddc-4950-8c2c-b9af5340dc28\",\"metadata\":{\"width\":1920,\"height\":982,\"format\":\"Jpeg\"}}'\n"
=======
      "b'{\"categories\":[{\"name\":\"outdoor_mountain\",\"score\":0.99609375}],\"requestId\":\"37c23ea9-d3c8-48a9-bf1c-c48a7f8060ed\",\"metadata\":{\"width\":1920,\"height\":982,\"format\":\"Jpeg\"}}'\n"
>>>>>>> ec4276e42d626832a2821fe3373d6d1f98c8d86d
     ]
    }
   ],
   "source": [
    "headers = {\n",
    "    # Request headers\n",
    "    'Content-Type': 'application/json',\n",
<<<<<<< HEAD
    "    'Ocp-Apim-Subscription-Key': api_key, #don't upload key to Github\n",
=======
    "    'Ocp-Apim-Subscription-Key': 'need to put key here', #don't upload key to Github\n",
>>>>>>> ec4276e42d626832a2821fe3373d6d1f98c8d86d
    "}\n",
    "\n",
    "params = urllib.parse.urlencode({\n",
    "    # Request parameters\n",
    "    'visualFeatures': 'Categories',\n",
    "    'language': 'en',\n",
    "})\n",
    "\n",
    "myURL= \"https://media.wired.com/photos/5aa18e3edc9df6500b90747b/master/w_825,c_limit/CarRoundup-Mclaren.jpg\"\n",
    "\n",
    "# \"url\":\"http://example.com/images/test.jpg\"\n",
    "try:\n",
    "    conn = http.client.HTTPSConnection('westus.api.cognitive.microsoft.com')\n",
    "    conn.request(\"POST\", \"/vision/v1.0/analyze?%s\" % params, \"{'url':'https://upload.wikimedia.org/wikipedia/commons/thumb/6/6e/Monasterio_Khor_Virap%2C_Armenia%2C_2016-10-01%2C_DD_25.jpg/1920px-Monasterio_Khor_Virap%2C_Armenia%2C_2016-10-01%2C_DD_25.jpg'}\", headers)\n",
    "    response = conn.getresponse()\n",
    "    data = response.read()\n",
    "    print(data)\n",
    "    conn.close()\n",
    "except Exception as e:\n",
    "    print(\"[Errno {0}] {1}\".format(e.errno, e.strerror))\n",
    "\n",
    "####################################"
   ]
  },
  {
   "cell_type": "code",
   "execution_count": null,
   "metadata": {},
   "outputs": [],
   "source": []
  },
  {
   "cell_type": "code",
   "execution_count": null,
   "metadata": {},
   "outputs": [],
   "source": []
  },
  {
   "cell_type": "code",
   "execution_count": null,
   "metadata": {},
   "outputs": [],
   "source": []
  }
 ],
 "metadata": {
  "kernelspec": {
   "display_name": "Python 3",
   "language": "python",
   "name": "python3"
  },
  "language_info": {
   "codemirror_mode": {
    "name": "ipython",
    "version": 3
   },
   "file_extension": ".py",
   "mimetype": "text/x-python",
   "name": "python",
   "nbconvert_exporter": "python",
   "pygments_lexer": "ipython3",
   "version": "3.6.6"
  }
 },
 "nbformat": 4,
 "nbformat_minor": 2
}
